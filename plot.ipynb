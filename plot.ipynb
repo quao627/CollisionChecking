{
 "cells": [
  {
   "cell_type": "code",
   "execution_count": 1,
   "metadata": {},
   "outputs": [],
   "source": [
    "import pandas as pd\n",
    "import matplotlib.pyplot as plt\n",
    "import seaborn as sns\n",
    "import navpy"
   ]
  },
  {
   "cell_type": "code",
   "execution_count": 11,
   "metadata": {},
   "outputs": [],
   "source": [
    "def convert_coord(filename):\n",
    "    lat0 = 39.809786\n",
    "    long0 = -86.235148\n",
    "    traj_df = pd.read_csv(filename + \".csv\", names=[\"lat\", \"lon\"])\n",
    "    traj_2D_list = navpy.lla2ned(lat=traj_df.iloc[:, 0],lon=traj_df.iloc[:, 1], alt=[0]*len(traj_df), lat_ref=lat0, lon_ref=long0, alt_ref=0, latlon_unit='deg')\n",
    "    traj_converted = pd.DataFrame(traj_2D_list, columns=[\"lat\", \"lon\", \"alt\"])\n",
    "    traj_converted.to_csv(f\"{filename}_converted.csv\")"
   ]
  },
  {
   "cell_type": "code",
   "execution_count": 12,
   "metadata": {},
   "outputs": [],
   "source": [
    "filename = \"Data/LOR_inner_boundary\"\n",
    "convert_coord(filename)\n",
    "\n",
    "filename = \"Data/LOR_outer_boundary\"\n",
    "convert_coord(filename)"
   ]
  },
  {
   "cell_type": "code",
   "execution_count": null,
   "metadata": {},
   "outputs": [],
   "source": []
  }
 ],
 "metadata": {
  "kernelspec": {
   "display_name": "Python 3.9.6 64-bit",
   "language": "python",
   "name": "python3"
  },
  "language_info": {
   "codemirror_mode": {
    "name": "ipython",
    "version": 3
   },
   "file_extension": ".py",
   "mimetype": "text/x-python",
   "name": "python",
   "nbconvert_exporter": "python",
   "pygments_lexer": "ipython3",
   "version": "3.9.6"
  },
  "orig_nbformat": 4,
  "vscode": {
   "interpreter": {
    "hash": "31f2aee4e71d21fbe5cf8b01ff0e069b9275f58929596ceb00d14d90e3e16cd6"
   }
  }
 },
 "nbformat": 4,
 "nbformat_minor": 2
}
